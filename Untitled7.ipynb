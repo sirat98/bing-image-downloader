{
  "nbformat": 4,
  "nbformat_minor": 0,
  "metadata": {
    "colab": {
      "provenance": [],
      "authorship_tag": "ABX9TyN3ZCq2hEHY4ljSqxm9aXI/",
      "include_colab_link": true
    },
    "kernelspec": {
      "name": "python3",
      "display_name": "Python 3"
    },
    "language_info": {
      "name": "python"
    }
  },
  "cells": [
    {
      "cell_type": "markdown",
      "metadata": {
        "id": "view-in-github",
        "colab_type": "text"
      },
      "source": [
        "<a href=\"https://colab.research.google.com/github/sirat98/bing-image-downloader/blob/main/Untitled7.ipynb\" target=\"_parent\"><img src=\"https://colab.research.google.com/assets/colab-badge.svg\" alt=\"Open In Colab\"/></a>"
      ]
    },
    {
      "cell_type": "code",
      "execution_count": 1,
      "metadata": {
        "colab": {
          "base_uri": "https://localhost:8080/"
        },
        "id": "l-NxNLAwJpBf",
        "outputId": "ac796a8f-8aab-4653-cbc7-3afdaa01de41"
      },
      "outputs": [
        {
          "output_type": "stream",
          "name": "stdout",
          "text": [
            "Collecting bing-image-downloader\n",
            "  Downloading bing_image_downloader-1.1.2-py3-none-any.whl (5.9 kB)\n",
            "Installing collected packages: bing-image-downloader\n",
            "Successfully installed bing-image-downloader-1.1.2\n"
          ]
        }
      ],
      "source": [
        "!pip install bing-image-downloader\n"
      ]
    },
    {
      "cell_type": "code",
      "source": [
        "from bing_image_downloader import downloader\n",
        "def search(keyword, imageNumber):\n",
        "    _search_params = {\n",
        "        'q': keyword,\n",
        "        'num': imageNumber,\n",
        "\n",
        "    }\n",
        "downloader.download('landscape', limit=5)\n",
        "\n"
      ],
      "metadata": {
        "colab": {
          "base_uri": "https://localhost:8080/"
        },
        "id": "Xyi3BmGJJ2l0",
        "outputId": "b4b852b7-a01a-4e9f-a538-27b974d347e7"
      },
      "execution_count": 8,
      "outputs": [
        {
          "output_type": "stream",
          "name": "stdout",
          "text": [
            "[%] Downloading Images to /content/dataset/landscape\n",
            "\n",
            "\n",
            "[!!]Indexing page: 1\n",
            "\n",
            "[%] Indexed 20 Images on Page 1.\n",
            "\n",
            "===============================================\n",
            "\n",
            "[%] Downloading Image #1 from https://get.wallhere.com/photo/landscape-sunset-hill-nature-sunrise-evening-morning-wilderness-dusk-New-Zealand-plateau-cloud-autumn-mountain-flower-dawn-grassland-meadow-wildflower-prairie-3840x2160-px-mountainous-landforms-geographical-feature-mountain-range-556254.jpg\n",
            "[%] File Downloaded !\n",
            "\n",
            "[%] Downloading Image #2 from https://pixnio.com/free-images/2017/12/19/2017-12-19-21-28-15.jpg\n",
            "[%] File Downloaded !\n",
            "\n",
            "[%] Downloading Image #3 from http://thewowstyle.com/wp-content/uploads/2015/02/now-i-am-free.jpg\n",
            "[%] File Downloaded !\n",
            "\n",
            "[%] Downloading Image #4 from https://www.wallpaperup.com/uploads/wallpapers/2015/10/01/812761/d7b9560abb6b04aeb7f201fb09c765cc.jpg\n",
            "[!] Issue getting: https://www.wallpaperup.com/uploads/wallpapers/2015/10/01/812761/d7b9560abb6b04aeb7f201fb09c765cc.jpg\n",
            "[!] Error:: <urlopen error [SSL: CERTIFICATE_VERIFY_FAILED] certificate verify failed: Hostname mismatch, certificate is not valid for 'www.wallpaperup.com'. (_ssl.c:1007)>\n",
            "[%] Downloading Image #4 from https://wallup.net/wp-content/uploads/2015/12/190398-nature-landscape-trees-forest-wood-branch-leaves-path-grass-HDR.jpg\n",
            "[%] File Downloaded !\n",
            "\n",
            "[%] Downloading Image #5 from https://wallup.net/wp-content/uploads/2019/09/651640-landscape-nature-tree-forest-woods-river.jpg\n",
            "[%] File Downloaded !\n",
            "\n",
            "\n",
            "\n",
            "[%] Done. Downloaded 5 images.\n"
          ]
        }
      ]
    }
  ]
}